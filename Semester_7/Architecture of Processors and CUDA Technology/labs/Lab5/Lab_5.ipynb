{
  "cells": [
    {
      "cell_type": "code",
      "execution_count": null,
      "metadata": {
        "id": "5BiIlWN8-3JD"
      },
      "outputs": [],
      "source": [
        "!pip install pycuda"
      ]
    },
    {
      "cell_type": "code",
      "execution_count": null,
      "metadata": {
        "id": "em-zXdx3CgND"
      },
      "outputs": [],
      "source": [
        "import pycuda.driver as cuda\n",
        "import pycuda.autoinit\n",
        "from pycuda.compiler import SourceModule\n",
        "import numpy as np\n",
        "import time"
      ]
    },
    {
      "cell_type": "code",
      "execution_count": null,
      "metadata": {
        "id": "sYr4Ds_XyHtt"
      },
      "outputs": [],
      "source": [
        "def load_ppm(file_path):\n",
        "    with open(file_path, 'rb') as f:\n",
        "        ppm_type = f.readline().strip()\n",
        "        if ppm_type == b'P6':\n",
        "            is_color = True\n",
        "            print(\"Loaded color image\")\n",
        "        elif ppm_type == b'P5':\n",
        "            is_color = False\n",
        "            print(\"Loaded black-white image\")\n",
        "        else:\n",
        "            raise ValueError(\"Not supported file format\")\n",
        "\n",
        "        while True:\n",
        "            line = f.readline()\n",
        "            if line[0] != 35:\n",
        "                break\n",
        "\n",
        "        width, height = map(int, line.strip().split())\n",
        "        max_val = int(f.readline().strip())\n",
        "        if max_val != 255:\n",
        "            raise ValueError(\"Not supported max value: {}\".format(max_val))\n",
        "\n",
        "        if is_color:\n",
        "            data = np.fromfile(f, dtype=np.uint8).reshape((height, width, 3))\n",
        "        else:\n",
        "            data = np.fromfile(f, dtype=np.uint8).reshape((height, width, 1))\n",
        "\n",
        "    return data, is_color"
      ]
    },
    {
      "cell_type": "code",
      "execution_count": null,
      "metadata": {
        "id": "1iWmKixVyR3b"
      },
      "outputs": [],
      "source": [
        "def save_ppm(file_path, data, is_color):\n",
        "    height, width = data.shape[:2]\n",
        "\n",
        "    ppm_type = b'P6' if is_color else b'P5'\n",
        "    header = f\"{ppm_type.decode()}\\n{width} {height}\\n255\\n\".encode('ascii')\n",
        "\n",
        "    with open(file_path, 'wb') as f:\n",
        "        f.write(header)\n",
        "\n",
        "        if is_color:\n",
        "            if data.ndim == 2 or data.shape[2] != 3:\n",
        "                raise ValueError(\"Waited 3 channels\")\n",
        "            data = data.astype(np.uint8)\n",
        "        else:\n",
        "            data = data.astype(np.uint8).squeeze()\n",
        "\n",
        "        data.tofile(f)"
      ]
    },
    {
      "cell_type": "code",
      "execution_count": null,
      "metadata": {
        "id": "0r5kA3M7qC3D"
      },
      "outputs": [],
      "source": [
        "def cpu_max_filter(image_data):\n",
        "    height, width, channels = image_data.shape\n",
        "    output = np.zeros_like(image_data, dtype=np.uint8)\n",
        "    for c in range(channels):\n",
        "      for i in range(0, height):\n",
        "          for j in range(0, width):\n",
        "              start_i = max(0, i - 1)\n",
        "              end_i = min(height, i + 2)\n",
        "              start_j = max(0, j - 1)\n",
        "              end_j = min(width, j + 2)\n",
        "\n",
        "              region = image_data[start_i:end_i, start_j:end_j, c]\n",
        "\n",
        "              output[i][j][c] = max(region.flatten())\n",
        "\n",
        "    return output"
      ]
    },
    {
      "cell_type": "code",
      "source": [
        "kernel = \"\"\"\n",
        "__global__ void max_filter_shared(unsigned char* input_image, unsigned char* output_image, int width, int height, int channels)\n",
        "{\n",
        "    int yInInput = blockIdx.y * blockDim.y + threadIdx.y;\n",
        "    int xInInput = blockIdx.x * blockDim.x + threadIdx.x;\n",
        "    int z = threadIdx.z;\n",
        "\n",
        "\n",
        "    __shared__ unsigned char sharedmem[(16 + 2)][(16 + 2)][3];\n",
        "\n",
        "\n",
        "    bool is_x_left = (threadIdx.x == 0), is_x_right = (threadIdx.x == 16 - 1 || xInInput == width - 3);\n",
        "    bool is_y_top = (threadIdx.y == 0), is_y_bottom = (threadIdx.y == 16 - 1 || yInInput == height - 3);\n",
        "\n",
        "\n",
        "    if (yInInput + 2 < height && xInInput + 2 < width) {\n",
        "\n",
        "        sharedmem[threadIdx.x + 1][threadIdx.y + 1][z] = input_image[((yInInput + 1) * width + xInInput + 1) * channels + z];\n",
        "\n",
        "        if (is_x_left) {\n",
        "            sharedmem[threadIdx.x][threadIdx.y + 1][z] = input_image[((yInInput + 1) * width + xInInput) * channels + z];\n",
        "            if (is_y_bottom)\n",
        "                sharedmem[threadIdx.x][threadIdx.y + 2][z] = input_image[((yInInput + 2) * width + xInInput) * channels + z];\n",
        "            else if (is_y_top)\n",
        "                sharedmem[threadIdx.x][threadIdx.y][z] = input_image[(yInInput * width + xInInput) * channels + z];\n",
        "        }\n",
        "        else if (is_x_right) {\n",
        "            sharedmem[threadIdx.x + 2][threadIdx.y + 1][z] = input_image[((yInInput + 1) * width + xInInput + 2) * channels + z];\n",
        "            if (is_y_bottom)\n",
        "                sharedmem[threadIdx.x + 2][threadIdx.y + 2][z] = input_image[((yInInput + 2) * width + xInInput + 2) * channels + z];\n",
        "            else if (is_y_top)\n",
        "                sharedmem[threadIdx.x + 2][threadIdx.y][z] = input_image[(yInInput * width + xInInput + 2) * channels + z];\n",
        "        }\n",
        "\n",
        "        if (is_y_top)\n",
        "            sharedmem[threadIdx.x + 1][threadIdx.y][z] = input_image[(yInInput * width + xInInput + 1) * channels + z];\n",
        "        else if (is_y_bottom)\n",
        "            sharedmem[threadIdx.x + 1][threadIdx.y + 2][z] = input_image[((yInInput + 2) * width + xInInput + 1) * channels + z];\n",
        "\n",
        "        __syncthreads();\n",
        "\n",
        "        unsigned char a[9] = { sharedmem[threadIdx.x][threadIdx.y][z], sharedmem[threadIdx.x + 1][threadIdx.y][z], sharedmem[threadIdx.x + 2][threadIdx.y][z],\n",
        "                        sharedmem[threadIdx.x][threadIdx.y + 1][z], sharedmem[threadIdx.x + 1][threadIdx.y + 1][z], sharedmem[threadIdx.x + 2][threadIdx.y + 1][z],\n",
        "                        sharedmem[threadIdx.x][threadIdx.y + 2][z], sharedmem[threadIdx.x + 1][threadIdx.y + 2][z], sharedmem[threadIdx.x + 2][threadIdx.y + 2][z] };\n",
        "\n",
        "\n",
        "        unsigned char max_value = a[0];\n",
        "        for (int i = 1; i < 9; i++) {\n",
        "            max_value = max(max_value, a[i]);\n",
        "        }\n",
        "\n",
        "        output_image[(yInInput * width + xInInput) * channels + z] = max_value;\n",
        "    }\n",
        "}\n",
        "\"\"\"\n",
        "\n",
        "mod = SourceModule(kernel)\n",
        "max_filter = mod.get_function(\"max_filter_shared\")"
      ],
      "metadata": {
        "colab": {
          "base_uri": "https://localhost:8080/"
        },
        "id": "zMKTcYMg-6p5",
        "outputId": "37445c39-18e2-43a2-e462-b159659d1f8e"
      },
      "execution_count": null,
      "outputs": [
        {
          "output_type": "stream",
          "name": "stderr",
          "text": [
            "/usr/local/lib/python3.10/dist-packages/google/colab/_variable_inspector.py:27: UserWarning: module in out-of-thread context could not be cleaned up\n",
            "  globals().clear()\n"
          ]
        }
      ]
    },
    {
      "cell_type": "code",
      "source": [
        "kernel = \"\"\"\n",
        "__global__ void max_filter_shared(unsigned char* input_image, unsigned char* output_image, int width, int height, int channels) {\n",
        "    // Индексы текущего потока\n",
        "    int x = blockIdx.x * blockDim.x + threadIdx.x;\n",
        "    int y = blockIdx.y * blockDim.y + threadIdx.y;\n",
        "    int c = threadIdx.z;\n",
        "\n",
        "    // Размеры локальных индексов для shared memory (с учетом рамки для окна 3x3)\n",
        "    int local_x = threadIdx.x + 1;\n",
        "    int local_y = threadIdx.y + 1;\n",
        "\n",
        "    // Shared memory для блока с учётом границ\n",
        "    __shared__ unsigned char shared_mem[16 + 2][16 + 2][3];\n",
        "\n",
        "    // Инициализируем shared memory нулями для избежания ошибок вне изображения\n",
        "    shared_mem[local_x][local_y][c] = 0;\n",
        "    if (threadIdx.x == 0 || threadIdx.y == 0 || threadIdx.x == blockDim.x - 1 || threadIdx.y == blockDim.y - 1) {\n",
        "        shared_mem[local_x - 1][local_y - 1][c] = 0;\n",
        "        shared_mem[local_x + 1][local_y + 1][c] = 0;\n",
        "    }\n",
        "\n",
        "    // Загружаем центральные пиксели блока в shared memory\n",
        "    if (x < width && y < height) {\n",
        "        shared_mem[local_x][local_y][c] = input_image[(y * width + x) * channels + c];\n",
        "    }\n",
        "\n",
        "    // Заполняем границы shared memory, если поток находится на краю блока\n",
        "    if (threadIdx.x == 0 && x > 0) {\n",
        "        shared_mem[local_x - 1][local_y][c] = input_image[(y * width + (x - 1)) * channels + c];  // Левый сосед\n",
        "    }\n",
        "    if (threadIdx.x == blockDim.x - 1 && x < width - 1) {\n",
        "        shared_mem[local_x + 1][local_y][c] = input_image[(y * width + (x + 1)) * channels + c];  // Правый сосед\n",
        "    }\n",
        "    if (threadIdx.y == 0 && y > 0) {\n",
        "        shared_mem[local_x][local_y - 1][c] = input_image[((y - 1) * width + x) * channels + c];  // Верхний сосед\n",
        "    }\n",
        "    if (threadIdx.y == blockDim.y - 1 && y < height - 1) {\n",
        "        shared_mem[local_x][local_y + 1][c] = input_image[((y + 1) * width + x) * channels + c];  // Нижний сосед\n",
        "    }\n",
        "\n",
        "    // Угловые соседи\n",
        "    if (threadIdx.x == 0 && threadIdx.y == 0 && x > 0 && y > 0) {\n",
        "        shared_mem[local_x - 1][local_y - 1][c] = input_image[((y - 1) * width + (x - 1)) * channels + c];  // Левый верхний\n",
        "    }\n",
        "    if (threadIdx.x == blockDim.x - 1 && threadIdx.y == 0 && x < width - 1 && y > 0) {\n",
        "        shared_mem[local_x + 1][local_y - 1][c] = input_image[((y - 1) * width + (x + 1)) * channels + c];  // Правый верхний\n",
        "    }\n",
        "    if (threadIdx.x == 0 && threadIdx.y == blockDim.y - 1 && x > 0 && y < height - 1) {\n",
        "        shared_mem[local_x - 1][local_y + 1][c] = input_image[((y + 1) * width + (x - 1)) * channels + c];  // Левый нижний\n",
        "    }\n",
        "    if (threadIdx.x == blockDim.x - 1 && threadIdx.y == blockDim.y - 1 && x < width - 1 && y < height - 1) {\n",
        "        shared_mem[local_x + 1][local_y + 1][c] = input_image[((y + 1) * width + (x + 1)) * channels + c];  // Правый нижний\n",
        "    }\n",
        "\n",
        "    // Ждём завершения загрузки данных в shared memory\n",
        "    __syncthreads();\n",
        "\n",
        "    // Проверяем, что поток находится внутри границ изображения\n",
        "    if (x < width && y < height) {\n",
        "        int max_pixel = 0;\n",
        "\n",
        "        // Обрабатываем границы изображения, чтобы не выйти за их пределы\n",
        "        int start_x = max(1, local_x - 1);\n",
        "        int end_x = min(16 + 1, local_x + 1);\n",
        "        int start_y = max(1, local_y - 1);\n",
        "        int end_y = min(16 + 1, local_y + 1);\n",
        "\n",
        "        // Поиск максимального значения в окне 3x3\n",
        "        for (int i = start_x; i <= end_x; i++) {\n",
        "            for (int j = start_y; j <= end_y; j++) {\n",
        "                max_pixel = max(max_pixel, (int)shared_mem[i][j][c]);\n",
        "            }\n",
        "        }\n",
        "\n",
        "        // Ждём завершения обработки данных\n",
        "        __syncthreads();\n",
        "\n",
        "        // Записываем результат в глобальную память\n",
        "        output_image[(y * width + x) * channels + c] = (unsigned char)max_pixel;\n",
        "    }\n",
        "}\n",
        "\"\"\"\n",
        "mod = SourceModule(kernel)\n",
        "max_filter = mod.get_function(\"max_filter_shared\")\n"
      ],
      "metadata": {
        "id": "J6RsYTXLK2MW"
      },
      "execution_count": null,
      "outputs": []
    },
    {
      "cell_type": "code",
      "source": [
        "kernel = \"\"\"\n",
        "__global__ void max_filter(unsigned char* input_image, unsigned char* output_image, int width, int height, int channels) {\n",
        "    int x = blockIdx.x * blockDim.x + threadIdx.x;\n",
        "    int y = blockIdx.y * blockDim.y + threadIdx.y;\n",
        "    int c = threadIdx.z;\n",
        "\n",
        "    if (x < width && y < height && c < channels) {\n",
        "\n",
        "        int max_pixel = 0;\n",
        "\n",
        "        int start_i = max(0, x - 1);\n",
        "        int end_i = min(width, x + 2);\n",
        "        int start_j = max(0, y - 1);\n",
        "        int end_j = min(height, y + 2);\n",
        "\n",
        "        for (int i = start_i; i < end_i; i++) {\n",
        "            for (int j = start_j; j < end_j; j++) {\n",
        "                int pixel = input_image[(j * width + i) * channels + c];\n",
        "                if (max_pixel < pixel) {\n",
        "                    max_pixel = pixel;\n",
        "                }\n",
        "            }\n",
        "        }\n",
        "\n",
        "        output_image[(y * width + x) * channels + c] = (unsigned char)max_pixel;\n",
        "    }\n",
        "}\n",
        "\"\"\"\n",
        "mod = SourceModule(kernel)\n",
        "max_filter = mod.get_function(\"max_filter\")"
      ],
      "metadata": {
        "id": "XIdJL77nn8JH",
        "collapsed": true
      },
      "execution_count": null,
      "outputs": []
    },
    {
      "cell_type": "code",
      "execution_count": null,
      "metadata": {
        "id": "JOSSfsiME_r1"
      },
      "outputs": [],
      "source": [
        "def apply_max_filter(image_data):\n",
        "    height, width, channels = image_data.shape\n",
        "    image_data_flat = image_data.ravel()\n",
        "\n",
        "    input_image_gpu = cuda.mem_alloc(image_data_flat.nbytes)\n",
        "    output_image_gpu = cuda.mem_alloc(image_data_flat.nbytes)\n",
        "\n",
        "    cuda.memcpy_htod(input_image_gpu, image_data_flat)\n",
        "\n",
        "    block_size = (16, 16, channels)\n",
        "    grid_size = (width // block_size[0] + 1, height // block_size[1] + 1, 1)\n",
        "\n",
        "    start_event = cuda.Event()\n",
        "    end_event = cuda.Event()\n",
        "    start_event.record()\n",
        "\n",
        "    max_filter(input_image_gpu, output_image_gpu, np.int32(width), np.int32(height), np.int32(channels), block=block_size, grid=grid_size)\n",
        "\n",
        "    end_event.record()\n",
        "    end_event.synchronize()\n",
        "    gpu_time = start_event.time_till(end_event)\n",
        "\n",
        "    output_image = np.empty_like(image_data_flat)\n",
        "    cuda.memcpy_dtoh(output_image, output_image_gpu)\n",
        "    output_image = output_image.reshape((height, width, channels))\n",
        "\n",
        "    input_image_gpu.free()\n",
        "    output_image_gpu.free()\n",
        "\n",
        "    return output_image, gpu_time"
      ]
    },
    {
      "cell_type": "code",
      "execution_count": null,
      "metadata": {
        "colab": {
          "base_uri": "https://localhost:8080/"
        },
        "id": "DNlFt8c12Xxo",
        "outputId": "d84089c7-4e2b-44bf-a4f0-f5c1bc2b226d"
      },
      "outputs": [
        {
          "output_type": "stream",
          "name": "stdout",
          "text": [
            "Loaded black-white image\n",
            "CPU execution time is 39812.2 ms\n",
            "GPU execution time is 1.7 ms\n",
            "Is equal: True\n"
          ]
        }
      ],
      "source": [
        "image_path = \"1695128011374.pgm\"\n",
        "image_data, is_color = load_ppm(image_path)\n",
        "\n",
        "start_time = time.perf_counter()\n",
        "\n",
        "cpu_res = cpu_max_filter(image_data)\n",
        "\n",
        "cpu_time = (time.perf_counter() - start_time) * 1000\n",
        "print(f\"CPU execution time is {cpu_time:.1f} ms\")\n",
        "\n",
        "# save_ppm(\"example3_cpu_res.ppm\", cpu_res, is_color)\n",
        "\n",
        "gpu_res, gpu_time = apply_max_filter(image_data)\n",
        "print(f\"GPU execution time is {gpu_time:.1f} ms\")\n",
        "print(\"Is equal:\", np.array_equal(gpu_res, cpu_res))\n",
        "\n",
        "# save_ppm(\"example3_gpu_res.ppm\", gpu_res, is_color)\n"
      ]
    }
  ],
  "metadata": {
    "accelerator": "GPU",
    "colab": {
      "gpuType": "T4",
      "provenance": []
    },
    "kernelspec": {
      "display_name": "Python 3",
      "name": "python3"
    },
    "language_info": {
      "name": "python"
    }
  },
  "nbformat": 4,
  "nbformat_minor": 0
}